{
  "cells": [
    {
      "cell_type": "code",
      "source": [
        "import tensorflow as tf\r\n",
        "import string\r\n",
        "import requests\r\n",
        "import numpy as np\r\n",
        "from tensorflow.keras.preprocessing.text import Tokenizer\r\n",
        "from tensorflow.keras.preprocessing.sequence import pad_sequences\r\n",
        "import matplotlib.pyplot as plt\r\n",
        "from keras.callbacks import ModelCheckpoint, EarlyStopping"
      ],
      "outputs": [],
      "execution_count": 1,
      "metadata": {
        "gather": {
          "logged": 1646762929129
        }
      }
    },
    {
      "cell_type": "code",
      "source": [
        "response = requests.get('https://www.gutenberg.org/files/61262/61262-0.txt')"
      ],
      "outputs": [],
      "execution_count": 2,
      "metadata": {
        "jupyter": {
          "source_hidden": false,
          "outputs_hidden": false
        },
        "nteract": {
          "transient": {
            "deleting": false
          }
        },
        "gather": {
          "logged": 1646762930349
        }
      }
    },
    {
      "cell_type": "code",
      "source": [
        "data = response.text.replace('\\r', '').replace('\\ufeff', '')\r\n",
        "translator = str.maketrans(string.punctuation, ' '*len(string.punctuation))\r\n",
        "new_data = data.translate(translator)\r\n",
        "new_data = new_data.replace('”', '').replace('“', '')\r\n",
        "processeddata = new_data.split('\\n')"
      ],
      "outputs": [],
      "execution_count": 3,
      "metadata": {
        "jupyter": {
          "source_hidden": false,
          "outputs_hidden": false
        },
        "nteract": {
          "transient": {
            "deleting": false
          }
        },
        "gather": {
          "logged": 1646762930461
        }
      }
    },
    {
      "cell_type": "code",
      "source": [
        "processeddata = [x.encode('ascii', 'ignore').decode('ascii') for x in processeddata]\r\n",
        "processeddata = processeddata[112:]"
      ],
      "outputs": [],
      "execution_count": 4,
      "metadata": {
        "jupyter": {
          "source_hidden": false,
          "outputs_hidden": false
        },
        "nteract": {
          "transient": {
            "deleting": false
          }
        },
        "gather": {
          "logged": 1646762930580
        }
      }
    },
    {
      "cell_type": "code",
      "source": [
        "processeddata[0]"
      ],
      "outputs": [
        {
          "output_type": "execute_result",
          "execution_count": 5,
          "data": {
            "text/plain": "'I was standing at the window of Poirots rooms looking out idly on'"
          },
          "metadata": {}
        }
      ],
      "execution_count": 5,
      "metadata": {
        "jupyter": {
          "source_hidden": false,
          "outputs_hidden": false
        },
        "nteract": {
          "transient": {
            "deleting": false
          }
        },
        "gather": {
          "logged": 1646762930695
        }
      }
    },
    {
      "cell_type": "code",
      "source": [
        "len(processeddata)"
      ],
      "outputs": [
        {
          "output_type": "execute_result",
          "execution_count": 6,
          "data": {
            "text/plain": "7863"
          },
          "metadata": {}
        }
      ],
      "execution_count": 6,
      "metadata": {
        "jupyter": {
          "source_hidden": false,
          "outputs_hidden": false
        },
        "nteract": {
          "transient": {
            "deleting": false
          }
        },
        "gather": {
          "logged": 1646762930822
        }
      }
    },
    {
      "cell_type": "code",
      "source": [
        "processeddata = \" \".join(processeddata)\r\n",
        "tokens = processeddata.split()\r\n",
        "tokens = [word.lower() for word in tokens]"
      ],
      "outputs": [],
      "execution_count": 7,
      "metadata": {
        "jupyter": {
          "source_hidden": false,
          "outputs_hidden": false
        },
        "nteract": {
          "transient": {
            "deleting": false
          }
        },
        "gather": {
          "logged": 1646762930938
        }
      }
    },
    {
      "cell_type": "code",
      "source": [
        "print(tokens[:50])"
      ],
      "outputs": [
        {
          "output_type": "stream",
          "name": "stdout",
          "text": "['i', 'was', 'standing', 'at', 'the', 'window', 'of', 'poirots', 'rooms', 'looking', 'out', 'idly', 'on', 'the', 'street', 'below', 'thats', 'queer', 'i', 'ejaculated', 'suddenly', 'beneath', 'my', 'breath', 'what', 'is', 'mon', 'ami', 'asked', 'poirot', 'placidly', 'from', 'the', 'depths', 'of', 'his', 'comfortable', 'chair', 'deduce', 'poirot', 'from', 'the', 'following', 'facts', 'here', 'is', 'a', 'young', 'lady', 'richly']\n"
        }
      ],
      "execution_count": 8,
      "metadata": {
        "jupyter": {
          "source_hidden": false,
          "outputs_hidden": false
        },
        "nteract": {
          "transient": {
            "deleting": false
          }
        },
        "gather": {
          "logged": 1646762931073
        }
      }
    },
    {
      "cell_type": "code",
      "source": [
        "length = 50 + 1\r\n",
        "lines = []\r\n",
        "for i in range(length, len(tokens)):\r\n",
        "    seq = tokens[i-length:i]\r\n",
        "    line = ' '.join(seq)\r\n",
        "    lines.append(line)\r\n",
        "\r\n",
        "print(len(lines))"
      ],
      "outputs": [
        {
          "output_type": "stream",
          "name": "stdout",
          "text": "55843\n"
        }
      ],
      "execution_count": 9,
      "metadata": {
        "jupyter": {
          "source_hidden": false,
          "outputs_hidden": false
        },
        "nteract": {
          "transient": {
            "deleting": false
          }
        },
        "gather": {
          "logged": 1646762931152
        }
      }
    },
    {
      "cell_type": "code",
      "source": [
        "tokenizer = Tokenizer()\r\n",
        "tokenizer.fit_on_texts(lines)\r\n",
        "sequences = tokenizer.texts_to_sequences(lines)"
      ],
      "outputs": [],
      "execution_count": 10,
      "metadata": {
        "jupyter": {
          "source_hidden": false,
          "outputs_hidden": false
        },
        "nteract": {
          "transient": {
            "deleting": false
          }
        },
        "gather": {
          "logged": 1646762934350
        }
      }
    },
    {
      "cell_type": "code",
      "source": [
        "sequences = np.array(sequences)\r\n",
        "X, y = sequences[:, :-1], sequences[:, -1]"
      ],
      "outputs": [],
      "execution_count": 11,
      "metadata": {
        "jupyter": {
          "source_hidden": false,
          "outputs_hidden": false
        },
        "nteract": {
          "transient": {
            "deleting": false
          }
        },
        "gather": {
          "logged": 1646762934579
        }
      }
    },
    {
      "cell_type": "code",
      "source": [
        "vocabsize = len(tokenizer.word_index) + 1"
      ],
      "outputs": [],
      "execution_count": 12,
      "metadata": {
        "jupyter": {
          "source_hidden": false,
          "outputs_hidden": false
        },
        "nteract": {
          "transient": {
            "deleting": false
          }
        },
        "gather": {
          "logged": 1646762934683
        }
      }
    },
    {
      "cell_type": "code",
      "source": [
        "y = tf.keras.utils.to_categorical(y, num_classes=vocabsize)"
      ],
      "outputs": [],
      "execution_count": 13,
      "metadata": {
        "jupyter": {
          "source_hidden": false,
          "outputs_hidden": false
        },
        "nteract": {
          "transient": {
            "deleting": false
          }
        },
        "gather": {
          "logged": 1646762935469
        }
      }
    },
    {
      "cell_type": "code",
      "source": [
        "seq_length = X.shape[1]"
      ],
      "outputs": [],
      "execution_count": 14,
      "metadata": {
        "jupyter": {
          "source_hidden": false,
          "outputs_hidden": false
        },
        "nteract": {
          "transient": {
            "deleting": false
          }
        },
        "gather": {
          "logged": 1646762937085
        }
      }
    },
    {
      "cell_type": "code",
      "source": [
        "lstmmodel = tf.keras.models.Sequential([\r\n",
        "    tf.keras.layers.Embedding(vocabsize, 50, input_length = seq_length),\r\n",
        "    tf.keras.layers.LSTM(100, return_sequences=True),\r\n",
        "    tf.keras.layers.LSTM(100),\r\n",
        "    tf.keras.layers.Dense(100, activation = 'relu'),\r\n",
        "    tf.keras.layers.Dense(vocabsize, activation='softmax')\r\n",
        "])\r\n",
        "lstmmodel.summary()"
      ],
      "outputs": [
        {
          "output_type": "stream",
          "name": "stdout",
          "text": "Model: \"sequential\"\n_________________________________________________________________\n Layer (type)                Output Shape              Param #   \n=================================================================\n embedding (Embedding)       (None, 50, 50)            325050    \n                                                                 \n lstm (LSTM)                 (None, 50, 100)           60400     \n                                                                 \n lstm_1 (LSTM)               (None, 100)               80400     \n                                                                 \n dense (Dense)               (None, 100)               10100     \n                                                                 \n dense_1 (Dense)             (None, 6501)              656601    \n                                                                 \n=================================================================\nTotal params: 1,132,551\nTrainable params: 1,132,551\nNon-trainable params: 0\n_________________________________________________________________\n"
        }
      ],
      "execution_count": 15,
      "metadata": {
        "jupyter": {
          "source_hidden": false,
          "outputs_hidden": false
        },
        "nteract": {
          "transient": {
            "deleting": false
          }
        },
        "gather": {
          "logged": 1646762964661
        }
      }
    },
    {
      "cell_type": "code",
      "source": [
        "lstmmodel.compile(loss = 'categorical_crossentropy', optimizer = 'adam', metrics = ['accuracy'])\r\n",
        "checkpoint = ModelCheckpoint(filepath=\"./modelsnlp/nlpbestmodel1.h5\", monitor = 'accuracy', verbose=2, save_best_only=True)\r\n",
        "earlystopping = EarlyStopping(monitor = 'accuracy', mode = 'max', patience = 40,  restore_best_weights = True)"
      ],
      "outputs": [],
      "execution_count": 16,
      "metadata": {
        "jupyter": {
          "source_hidden": false,
          "outputs_hidden": false
        },
        "nteract": {
          "transient": {
            "deleting": false
          }
        },
        "gather": {
          "logged": 1646762964769
        }
      }
    },
    {
      "cell_type": "code",
      "source": [
        "history = lstmmodel.fit(X, y, epochs = 1, callbacks=[checkpoint, earlystopping])"
      ],
      "outputs": [
        {
          "output_type": "stream",
          "name": "stdout",
          "text": "1746/1746 [==============================] - ETA: 0s - loss: 6.7080 - accuracy: 0.0582\b\b\b\b\b\b\b\b\b\b\b\b\b\b\b\b\b\b\b\b\b\b\b\b\b\b\b\b\b\b\b\b\b\b\b\b\b\b\b\b\b\b\b\b\b\b\b\b\b\b\b\b\b\b\b\b\b\b\b\b\b\b\b\b\b\b\b\b\b\b\b\b\b\b\b\b\b\b\b\b\b\b\b\b\b\b\b\b\b\b\b\b\b\b\b\b\b\b\b\b\b\b\b\b\b\b\nEpoch 00001: accuracy improved from -inf to 0.05816, saving model to ./modelsnlp/nlpbestmodel1.h5\n1746/1746 [==============================] - 69s 13ms/step - loss: 6.7080 - accuracy: 0.0582\n"
        }
      ],
      "execution_count": 17,
      "metadata": {
        "jupyter": {
          "source_hidden": false,
          "outputs_hidden": false
        },
        "nteract": {
          "transient": {
            "deleting": false
          }
        },
        "gather": {
          "logged": 1646763036194
        }
      }
    },
    {
      "cell_type": "code",
      "source": [
        "accuracy = history.history['accuracy']\r\n",
        "loss = history.history['loss']\r\n",
        "\r\n",
        "epochs = range(len(accuracy))\r\n",
        "\r\n",
        "plt.plot(epochs, accuracy, 'red', label='Training accuracy')\r\n",
        "plt.title('Training accuracy')\r\n",
        "plt.legend(loc=0)\r\n",
        "plt.figure()\r\n",
        "plt.show()\r\n",
        "\r\n",
        "plt.plot(epochs, loss, 'red', label='Training loss')\r\n",
        "plt.title('Training loss')\r\n",
        "plt.legend(loc=0)\r\n",
        "plt.figure()\r\n",
        "plt.show()"
      ],
      "outputs": [
        {
          "output_type": "display_data",
          "data": {
            "text/plain": "<Figure size 432x288 with 1 Axes>",
            "image/png": "[encoded data removed]"
          },
          "metadata": {
            "needs_background": "light"
          }
        },
        {
          "output_type": "display_data",
          "data": {
            "text/plain": "<Figure size 432x288 with 0 Axes>"
          },
          "metadata": {}
        },
        {
          "output_type": "display_data",
          "data": {
            "text/plain": "<Figure size 432x288 with 1 Axes>",
            "image/png": "[encoded data removed]"
          },
          "metadata": {
            "needs_background": "light"
          }
        },
        {
          "output_type": "display_data",
          "data": {
            "text/plain": "<Figure size 432x288 with 0 Axes>"
          },
          "metadata": {}
        }
      ],
      "execution_count": 18,
      "metadata": {
        "jupyter": {
          "source_hidden": false,
          "outputs_hidden": false
        },
        "nteract": {
          "transient": {
            "deleting": false
          }
        },
        "gather": {
          "logged": 1645533737257
        }
      }
    },
    {
      "cell_type": "code",
      "source": [
        "weightfile = './modelsnlp/nlpbestmodel.h5'\r\n",
        "lstmmodel.load_weights(weightfile)\r\n",
        "print(\"Weight loaded successfully\")"
      ],
      "outputs": [
        {
          "output_type": "stream",
          "name": "stdout",
          "text": "Weight loaded successfully\n"
        }
      ],
      "execution_count": 18,
      "metadata": {
        "jupyter": {
          "source_hidden": false,
          "outputs_hidden": false
        },
        "nteract": {
          "transient": {
            "deleting": false
          }
        },
        "gather": {
          "logged": 1646763043145
        }
      }
    },
    {
      "cell_type": "code",
      "source": [
        "lines[100]"
      ],
      "outputs": [
        {
          "output_type": "execute_result",
          "execution_count": 19,
          "data": {
            "text/plain": "'so what drama is this being played is the girl a crook and are the shadowers detectives preparing to arrest her or are they the scoundrels and are they plotting to attack an innocent victim what does the great detective say the great detective mon ami chooses as ever the simplest'"
          },
          "metadata": {}
        }
      ],
      "execution_count": 19,
      "metadata": {
        "jupyter": {
          "source_hidden": false,
          "outputs_hidden": false
        },
        "nteract": {
          "transient": {
            "deleting": false
          }
        },
        "gather": {
          "logged": 1646763044781
        }
      }
    },
    {
      "cell_type": "code",
      "source": [
        "seed_text = 'so the words are'"
      ],
      "outputs": [],
      "execution_count": 20,
      "metadata": {
        "jupyter": {
          "source_hidden": false,
          "outputs_hidden": false
        },
        "nteract": {
          "transient": {
            "deleting": false
          }
        },
        "gather": {
          "logged": 1646763046645
        }
      }
    },
    {
      "cell_type": "code",
      "source": [
        "def generate_text_seq(lstmmodel, tokenizer, text_seq_length, seed_text, n_words):\r\n",
        "    text = []\r\n",
        "    for _ in range(n_words):\r\n",
        "        encoded = tokenizer.texts_to_sequences([seed_text])[0]\r\n",
        "        encoded = pad_sequences([encoded], maxlen = text_seq_length, truncating = 'pre')\r\n",
        "        predicted = lstmmodel.predict(encoded)\r\n",
        "        predictclass = np.argmax(predicted,axis=1)\r\n",
        "        predictword = ''\r\n",
        "        for word, index in tokenizer.word_index.items():\r\n",
        "            if index == predictclass:\r\n",
        "                predictword = word\r\n",
        "                break\r\n",
        "        seed_text = seed_text + ' ' + predictword\r\n",
        "        text.append(predictword)\r\n",
        "    return ' '.join(text)\r\n"
      ],
      "outputs": [],
      "execution_count": 21,
      "metadata": {
        "jupyter": {
          "source_hidden": false,
          "outputs_hidden": false
        },
        "nteract": {
          "transient": {
            "deleting": false
          }
        },
        "gather": {
          "logged": 1646763048693
        }
      }
    },
    {
      "cell_type": "code",
      "source": [
        "generate_text_seq(lstmmodel, tokenizer, seq_length, seed_text, 100)"
      ],
      "outputs": [
        {
          "output_type": "execute_result",
          "execution_count": 22,
          "data": {
            "text/plain": "'anyway yes though i understand its a minor official if you havent missed a gentle silence round that of some kind to argue mrs first idea most impossible you do not know what is the little man has never only stolen it questioned with some time gregory remembers that i could not make a guess in its money we followed him to death he held through the inside and romantic peace and was arranged his idea you puzzled upstairs japp not a few days the day was now as the man put down the jewel i gave your step city'"
          },
          "metadata": {}
        }
      ],
      "execution_count": 22,
      "metadata": {
        "jupyter": {
          "source_hidden": false,
          "outputs_hidden": false
        },
        "nteract": {
          "transient": {
            "deleting": false
          }
        },
        "gather": {
          "logged": 1646763055924
        }
      }
    }
  ],
  "metadata": {
    "kernelspec": {
      "name": "azureml_py38_pt_tf",
      "language": "python",
      "display_name": "Python 3.8 - Pytorch and Tensorflow"
    },
    "language_info": {
      "name": "python",
      "version": "3.8.1",
      "mimetype": "text/x-python",
      "codemirror_mode": {
        "name": "ipython",
        "version": 3
      },
      "pygments_lexer": "ipython3",
      "nbconvert_exporter": "python",
      "file_extension": ".py"
    },
    "kernel_info": {
      "name": "azureml_py38_pt_tf"
    },
    "microsoft": {
      "host": {
        "AzureML": {
          "notebookHasBeenCompleted": true
        }
      }
    },
    "nteract": {
      "version": "nteract-front-end@1.0.0"
    }
  },
  "nbformat": 4,
  "nbformat_minor": 2
}